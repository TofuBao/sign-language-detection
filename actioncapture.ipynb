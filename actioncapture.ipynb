{
 "cells": [
  {
   "cell_type": "code",
   "execution_count": 6,
   "metadata": {},
   "outputs": [],
   "source": [
    "import cv2\n",
    "import time\n",
    "import os\n",
    "import numpy as np\n",
    "\n",
    "def record_action(root_folder, action_name, user_name, repeat_count=5, record_duration=3.5, countdown_duration=2, \n",
    "                  frame_width=1920, frame_height=1080, fps=30):\n",
    "  \n",
    "    # 在根文件夹路径下创建 custom_data 文件夹及动作子文件夹\n",
    "    action_folder = os.path.join(root_folder, 'custom_data', action_name)\n",
    "    os.makedirs(action_folder, exist_ok=True)\n",
    "\n",
    "    # 初始化摄像头\n",
    "    cap = cv2.VideoCapture(0)\n",
    "    cap.set(cv2.CAP_PROP_FRAME_WIDTH, frame_width)\n",
    "    cap.set(cv2.CAP_PROP_FRAME_HEIGHT, frame_height)\n",
    "    frame_count = int(fps * record_duration)\n",
    "\n",
    "    quit_flag = False \n",
    "\n",
    "    for count in range(1, repeat_count + 1):\n",
    "        if quit_flag:\n",
    "            break \n",
    "\n",
    "        # 文件名格式: 动作_计数_用户名.mp4\n",
    "        video_filename = f\"{action_name}_{count}_{user_name}.mp4\"\n",
    "        video_filepath = os.path.join(action_folder, video_filename)\n",
    "        out = cv2.VideoWriter(video_filepath, cv2.VideoWriter_fourcc(*'avc1'), fps, (frame_width, frame_height))\n",
    "\n",
    "        print(f\"准备录制 {action_name} 动作，计数：{count}，保存到：{video_filepath}\")\n",
    "\n",
    "        # 倒计时黑屏\n",
    "        for i in range(countdown_duration, 0, -1):\n",
    "            black_frame = np.zeros((frame_height, frame_width, 3), dtype=np.uint8)\n",
    "            cv2.putText(black_frame, f\"Get Ready: {i}\", (frame_width // 2 - 100, frame_height // 2), cv2.FONT_HERSHEY_SIMPLEX, 2, (255, 255, 255), 4)\n",
    "            cv2.putText(black_frame, f\"{action_name} | Count: {count}\", (50, 100), cv2.FONT_HERSHEY_SIMPLEX, 1, (255, 255, 255), 2)\n",
    "            cv2.imshow('Recording', black_frame)\n",
    "            if cv2.waitKey(1000) & 0xFF == ord('q'):\n",
    "                quit_flag = True  # 如果按下 'q' 键，设置退出标志\n",
    "                break\n",
    "\n",
    "        if quit_flag:\n",
    "            break  # 跳出当前录制会话\n",
    "\n",
    "        print(\"开始录制...\")\n",
    "        for _ in range(frame_count):\n",
    "            ret, frame = cap.read()\n",
    "            if not ret:\n",
    "                print(\"无法捕获视频帧。\")\n",
    "                break\n",
    "            # 绘制绿色边框\n",
    "            thickness = 10\n",
    "            cv2.rectangle(frame, (0, 0), (frame_width, frame_height), (0, 255, 0), thickness)\n",
    "            cv2.putText(frame, f\"{action_name} | Count: {count}\", (10, 50), cv2.FONT_HERSHEY_SIMPLEX, 1, (255, 255, 255), 2)\n",
    "            out.write(frame)\n",
    "            # 实时显示画面\n",
    "            cv2.imshow('Recording', frame)\n",
    "            if cv2.waitKey(1) & 0xFF == ord('q'):  # 按 'q' 键可提前停止录制\n",
    "                quit_flag = True\n",
    "                break\n",
    "\n",
    "        # 释放当前视频文件\n",
    "        out.release()\n",
    "        print(f\"视频已保存至：{video_filepath}\")\n",
    "\n",
    "    # 释放摄像头和窗口资源\n",
    "    cap.release()\n",
    "    cv2.destroyAllWindows()\n"
   ]
  },
  {
   "cell_type": "code",
   "execution_count": 13,
   "metadata": {},
   "outputs": [
    {
     "name": "stdout",
     "output_type": "stream",
     "text": [
      "准备录制 please 动作，计数：1，保存到：I:/Ece496\\custom_data\\please\\please_1_test.mp4\n",
      "开始录制...\n",
      "视频已保存至：I:/Ece496\\custom_data\\please\\please_1_test.mp4\n"
     ]
    }
   ],
   "source": [
    "record_action(\n",
    "    root_folder='I:/Ece496',   # 根文件夹路径\n",
    "    action_name='please',        # 动作名称\n",
    "    user_name='test',          # 用户名\n",
    "    repeat_count=1            # 循环录制次数\n",
    ")"
   ]
  },
  {
   "cell_type": "code",
   "execution_count": 5,
   "metadata": {},
   "outputs": [
    {
     "name": "stdout",
     "output_type": "stream",
     "text": [
      "准备录制 see u later 动作，计数：5，保存到：I:/Ece496\\custom_data\\see u later\\see u later_5_Bill.mp4\n",
      "开始录制...\n",
      "视频已保存至：I:/Ece496\\custom_data\\see u later\\see u later_5_Bill.mp4\n",
      "准备录制 see u later 动作，计数：6，保存到：I:/Ece496\\custom_data\\see u later\\see u later_6_Bill.mp4\n",
      "开始录制...\n",
      "视频已保存至：I:/Ece496\\custom_data\\see u later\\see u later_6_Bill.mp4\n"
     ]
    }
   ],
   "source": [
    "record_action(\n",
    "    root_folder='I:/Ece496',   # 根文件夹路径\n",
    "    action_name='see u later',        # 动作名称\n",
    "    user_name='Bill',          # 用户名\n",
    "    repeat_count=17           # 循环录制次数\n",
    ")"
   ]
  },
  {
   "cell_type": "code",
   "execution_count": null,
   "metadata": {},
   "outputs": [],
   "source": [
    "record_action(\n",
    "    root_folder='I:/Ece496',   # 根文件夹路径\n",
    "    action_name='I or me',        # 动作名称\n",
    "    user_name='Bill',          # 用户名\n",
    "    repeat_count=25             # 循环录制次数\n",
    ")"
   ]
  },
  {
   "cell_type": "code",
   "execution_count": null,
   "metadata": {},
   "outputs": [],
   "source": [
    "record_action(\n",
    "    root_folder='I:/Ece496',   # 根文件夹路径\n",
    "    action_name='father',        # 动作名称\n",
    "    user_name='Bill',          # 用户名\n",
    "    repeat_count=25             # 循环录制次数\n",
    ")"
   ]
  },
  {
   "cell_type": "code",
   "execution_count": null,
   "metadata": {},
   "outputs": [],
   "source": [
    "record_action(\n",
    "    root_folder='I:/Ece496',   # 根文件夹路径\n",
    "    action_name='mother',        # 动作名称\n",
    "    user_name='Bill',          # 用户名\n",
    "    repeat_count=25             # 循环录制次数\n",
    ")"
   ]
  },
  {
   "cell_type": "code",
   "execution_count": null,
   "metadata": {},
   "outputs": [],
   "source": [
    "record_action(\n",
    "    root_folder='I:/Ece496',\n",
    "    action_name='Yes',\n",
    "    user_name='Bill',\n",
    "    repeat_count=20\n",
    ")"
   ]
  },
  {
   "cell_type": "code",
   "execution_count": null,
   "metadata": {},
   "outputs": [],
   "source": [
    "record_action(\n",
    "    root_folder='I:/Ece496',\n",
    "    action_name='No',\n",
    "    user_name='Bill',\n",
    "    repeat_count=20\n",
    ")\n"
   ]
  },
  {
   "cell_type": "code",
   "execution_count": null,
   "metadata": {},
   "outputs": [],
   "source": [
    "record_action(\n",
    "    root_folder='I:/Ece496',\n",
    "    action_name='Help',\n",
    "    user_name='Bill',\n",
    "    repeat_count=20\n",
    ")\n"
   ]
  },
  {
   "cell_type": "code",
   "execution_count": null,
   "metadata": {},
   "outputs": [],
   "source": [
    "record_action(\n",
    "    root_folder='I:/Ece496',\n",
    "    action_name='Please',\n",
    "    user_name='Bill',\n",
    "    repeat_count=20\n",
    ")\n"
   ]
  },
  {
   "cell_type": "code",
   "execution_count": null,
   "metadata": {},
   "outputs": [],
   "source": [
    "record_action(\n",
    "    root_folder='I:/Ece496',\n",
    "    action_name='Thank You',\n",
    "    user_name='Bill',\n",
    "    repeat_count=20\n",
    ")\n"
   ]
  },
  {
   "cell_type": "code",
   "execution_count": null,
   "metadata": {},
   "outputs": [],
   "source": [
    "record_action(\n",
    "    root_folder='I:/Ece496',\n",
    "    action_name='Want',\n",
    "    user_name='Bill',\n",
    "    repeat_count=20\n",
    ")\n"
   ]
  },
  {
   "cell_type": "code",
   "execution_count": null,
   "metadata": {},
   "outputs": [],
   "source": [
    "record_action(\n",
    "    root_folder='I:/Ece496',\n",
    "    action_name='What?',\n",
    "    user_name='Bill',\n",
    "    repeat_count=20\n",
    ")\n"
   ]
  },
  {
   "cell_type": "code",
   "execution_count": null,
   "metadata": {},
   "outputs": [],
   "source": [
    "record_action(\n",
    "    root_folder='I:/Ece496',\n",
    "    action_name='Dog',\n",
    "    user_name='Bill',\n",
    "    repeat_count=20\n",
    ")\n"
   ]
  },
  {
   "cell_type": "code",
   "execution_count": null,
   "metadata": {},
   "outputs": [],
   "source": [
    "record_action(\n",
    "    root_folder='I:/Ece496',\n",
    "    action_name='Cat',\n",
    "    user_name='Bill',\n",
    "    repeat_count=20\n",
    ")\n"
   ]
  },
  {
   "cell_type": "code",
   "execution_count": null,
   "metadata": {},
   "outputs": [],
   "source": [
    "record_action(\n",
    "    root_folder='I:/Ece496',\n",
    "    action_name='Again or Repeat',\n",
    "    user_name='Bill',\n",
    "    repeat_count=20\n",
    ")\n"
   ]
  },
  {
   "cell_type": "code",
   "execution_count": null,
   "metadata": {},
   "outputs": [],
   "source": [
    "record_action(\n",
    "    root_folder='I:/Ece496',\n",
    "    action_name='Eat/Food',\n",
    "    user_name='Bill',\n",
    "    repeat_count=20\n",
    ")\n"
   ]
  },
  {
   "cell_type": "code",
   "execution_count": null,
   "metadata": {},
   "outputs": [],
   "source": [
    "record_action(\n",
    "    root_folder='I:/Ece496',\n",
    "    action_name='Milk',\n",
    "    user_name='Bill',\n",
    "    repeat_count=20\n",
    ")\n"
   ]
  },
  {
   "cell_type": "code",
   "execution_count": null,
   "metadata": {},
   "outputs": [],
   "source": [
    "record_action(\n",
    "    root_folder='I:/Ece496',\n",
    "    action_name='More',\n",
    "    user_name='Bill',\n",
    "    repeat_count=20\n",
    ")\n"
   ]
  },
  {
   "cell_type": "code",
   "execution_count": null,
   "metadata": {},
   "outputs": [],
   "source": [
    "record_action(\n",
    "    root_folder='I:/Ece496',\n",
    "    action_name='Go To',\n",
    "    user_name='Bill',\n",
    "    repeat_count=20\n",
    ")\n"
   ]
  },
  {
   "cell_type": "code",
   "execution_count": null,
   "metadata": {},
   "outputs": [],
   "source": [
    "record_action(\n",
    "    root_folder='I:/Ece496',\n",
    "    action_name='Bathroom',\n",
    "    user_name='Bill',\n",
    "    repeat_count=20\n",
    ")\n"
   ]
  },
  {
   "cell_type": "code",
   "execution_count": null,
   "metadata": {},
   "outputs": [],
   "source": [
    "record_action(\n",
    "    root_folder='I:/Ece496',\n",
    "    action_name='Fine',\n",
    "    user_name='Bill',\n",
    "    repeat_count=20\n",
    ")\n"
   ]
  },
  {
   "cell_type": "code",
   "execution_count": null,
   "metadata": {},
   "outputs": [],
   "source": [
    "record_action(\n",
    "    root_folder='I:/Ece496',\n",
    "    action_name='Like',\n",
    "    user_name='Bill',\n",
    "    repeat_count=20\n",
    ")\n"
   ]
  },
  {
   "cell_type": "code",
   "execution_count": null,
   "metadata": {},
   "outputs": [],
   "source": [
    "record_action(\n",
    "    root_folder='I:/Ece496',\n",
    "    action_name='Learn',\n",
    "    user_name='Bill',\n",
    "    repeat_count=20\n",
    ")\n",
    "\n"
   ]
  },
  {
   "cell_type": "code",
   "execution_count": null,
   "metadata": {},
   "outputs": [],
   "source": [
    "record_action(\n",
    "    root_folder='I:/Ece496',\n",
    "    action_name='Sign',\n",
    "    user_name='Bill',\n",
    "    repeat_count=20\n",
    ")\n"
   ]
  },
  {
   "cell_type": "code",
   "execution_count": null,
   "metadata": {},
   "outputs": [],
   "source": [
    "record_action(\n",
    "    root_folder='I:/Ece496',\n",
    "    action_name='Finish or Done',\n",
    "    user_name='Bill',\n",
    "    repeat_count=20\n",
    ")\n"
   ]
  },
  {
   "cell_type": "code",
   "execution_count": null,
   "metadata": {},
   "outputs": [],
   "source": [
    "import tensorflow as tf\n",
    "\n",
    "# 输出 TensorFlow 版本以及检测到的 GPU 设备数量和信息\n",
    "print(\"TensorFlow version:\", tf.__version__)\n",
    "print(\"Num GPUs Available: \", len(tf.config.list_physical_devices('GPU')))\n",
    "if tf.config.list_physical_devices('GPU'):\n",
    "    print(\"GPU Devices:\", tf.config.list_physical_devices('GPU'))\n",
    "else:\n",
    "    print(\"TensorFlow GPU device not found.\")\n"
   ]
  }
 ],
 "metadata": {
  "kernelspec": {
   "display_name": "tf2x_clone",
   "language": "python",
   "name": "python3"
  },
  "language_info": {
   "codemirror_mode": {
    "name": "ipython",
    "version": 3
   },
   "file_extension": ".py",
   "mimetype": "text/x-python",
   "name": "python",
   "nbconvert_exporter": "python",
   "pygments_lexer": "ipython3",
   "version": "3.8.20"
  }
 },
 "nbformat": 4,
 "nbformat_minor": 2
}
